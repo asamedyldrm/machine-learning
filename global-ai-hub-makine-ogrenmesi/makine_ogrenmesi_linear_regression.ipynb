{
 "cells": [
  {
   "cell_type": "markdown",
   "id": "a663a474",
   "metadata": {},
   "source": [
    "## 1 - Probleme Genel Bakış"
   ]
  },
  {
   "cell_type": "markdown",
   "id": "c5df6929",
   "metadata": {},
   "source": [
    "## 2 - Veriyi Toplamak"
   ]
  },
  {
   "cell_type": "code",
   "execution_count": 1,
   "id": "ee594e81",
   "metadata": {},
   "outputs": [],
   "source": [
    "import pandas as pd"
   ]
  },
  {
   "cell_type": "code",
   "execution_count": 2,
   "id": "118320ed",
   "metadata": {},
   "outputs": [],
   "source": [
    "df = pd.read_csv(\"score.csv\")"
   ]
  },
  {
   "cell_type": "markdown",
   "id": "6a24c570",
   "metadata": {},
   "source": [
    "## 3 - Veriyi İnceleme ve Görselleştirme"
   ]
  },
  {
   "cell_type": "code",
   "execution_count": 3,
   "id": "13e1213c",
   "metadata": {},
   "outputs": [
    {
     "data": {
      "text/html": [
       "<div>\n",
       "<style scoped>\n",
       "    .dataframe tbody tr th:only-of-type {\n",
       "        vertical-align: middle;\n",
       "    }\n",
       "\n",
       "    .dataframe tbody tr th {\n",
       "        vertical-align: top;\n",
       "    }\n",
       "\n",
       "    .dataframe thead th {\n",
       "        text-align: right;\n",
       "    }\n",
       "</style>\n",
       "<table border=\"1\" class=\"dataframe\">\n",
       "  <thead>\n",
       "    <tr style=\"text-align: right;\">\n",
       "      <th></th>\n",
       "      <th>Hours</th>\n",
       "      <th>Scores</th>\n",
       "    </tr>\n",
       "  </thead>\n",
       "  <tbody>\n",
       "    <tr>\n",
       "      <th>0</th>\n",
       "      <td>2.5</td>\n",
       "      <td>21</td>\n",
       "    </tr>\n",
       "    <tr>\n",
       "      <th>1</th>\n",
       "      <td>5.1</td>\n",
       "      <td>47</td>\n",
       "    </tr>\n",
       "    <tr>\n",
       "      <th>2</th>\n",
       "      <td>3.2</td>\n",
       "      <td>27</td>\n",
       "    </tr>\n",
       "    <tr>\n",
       "      <th>3</th>\n",
       "      <td>8.5</td>\n",
       "      <td>75</td>\n",
       "    </tr>\n",
       "    <tr>\n",
       "      <th>4</th>\n",
       "      <td>3.5</td>\n",
       "      <td>30</td>\n",
       "    </tr>\n",
       "  </tbody>\n",
       "</table>\n",
       "</div>"
      ],
      "text/plain": [
       "   Hours  Scores\n",
       "0    2.5      21\n",
       "1    5.1      47\n",
       "2    3.2      27\n",
       "3    8.5      75\n",
       "4    3.5      30"
      ]
     },
     "execution_count": 3,
     "metadata": {},
     "output_type": "execute_result"
    }
   ],
   "source": [
    "df.head()"
   ]
  },
  {
   "cell_type": "code",
   "execution_count": 4,
   "id": "a2f92f63",
   "metadata": {},
   "outputs": [
    {
     "data": {
      "text/plain": [
       "(25, 2)"
      ]
     },
     "execution_count": 4,
     "metadata": {},
     "output_type": "execute_result"
    }
   ],
   "source": [
    "df.shape"
   ]
  },
  {
   "cell_type": "code",
   "execution_count": 5,
   "id": "a3ee1be4",
   "metadata": {},
   "outputs": [
    {
     "name": "stdout",
     "output_type": "stream",
     "text": [
      "<class 'pandas.core.frame.DataFrame'>\n",
      "RangeIndex: 25 entries, 0 to 24\n",
      "Data columns (total 2 columns):\n",
      " #   Column  Non-Null Count  Dtype  \n",
      "---  ------  --------------  -----  \n",
      " 0   Hours   25 non-null     float64\n",
      " 1   Scores  25 non-null     int64  \n",
      "dtypes: float64(1), int64(1)\n",
      "memory usage: 528.0 bytes\n"
     ]
    }
   ],
   "source": [
    "df.info()"
   ]
  },
  {
   "cell_type": "code",
   "execution_count": 6,
   "id": "406bc8ad",
   "metadata": {},
   "outputs": [],
   "source": [
    "import matplotlib.pyplot as plt"
   ]
  },
  {
   "cell_type": "code",
   "execution_count": 7,
   "id": "2e57753e",
   "metadata": {},
   "outputs": [
    {
     "data": {
      "image/png": "[encoded data removed]",
      "text/plain": [
       "<Figure size 432x288 with 1 Axes>"
      ]
     },
     "metadata": {
      "needs_background": "light"
     },
     "output_type": "display_data"
    }
   ],
   "source": [
    "plt.scatter(x=df[\"Hours\"], y=df[\"Scores\"], color = \"green\")\n",
    "\n",
    "plt.xlabel(\"Hours\")\n",
    "plt.ylabel(\"Scores\")\n",
    "\n",
    "plt.title(\"Hours vs Scores\")\n",
    "plt.show()"
   ]
  },
  {
   "cell_type": "markdown",
   "id": "5e3b751e",
   "metadata": {},
   "source": [
    "## 4 - Veriyi Modele Uygun Hale Getirmek"
   ]
  },
  {
   "cell_type": "code",
   "execution_count": 8,
   "id": "e1a268a4",
   "metadata": {},
   "outputs": [],
   "source": [
    "x = df[\"Hours\"] #bağımsız değişken\n",
    "y = df[\"Scores\"] #bağımlı değişken"
   ]
  },
  {
   "cell_type": "code",
   "execution_count": 9,
   "id": "0c04e90b",
   "metadata": {},
   "outputs": [
    {
     "data": {
      "text/plain": [
       "0     2.5\n",
       "1     5.1\n",
       "2     3.2\n",
       "3     8.5\n",
       "4     3.5\n",
       "5     1.5\n",
       "6     9.2\n",
       "7     5.5\n",
       "8     8.3\n",
       "9     2.7\n",
       "10    7.7\n",
       "11    5.9\n",
       "12    4.5\n",
       "13    3.3\n",
       "14    1.1\n",
       "15    8.9\n",
       "16    2.5\n",
       "17    1.9\n",
       "18    6.1\n",
       "19    7.4\n",
       "20    2.7\n",
       "21    4.8\n",
       "22    3.8\n",
       "23    6.9\n",
       "24    7.8\n",
       "Name: Hours, dtype: float64"
      ]
     },
     "execution_count": 9,
     "metadata": {},
     "output_type": "execute_result"
    }
   ],
   "source": [
    "x"
   ]
  },
  {
   "cell_type": "code",
   "execution_count": 10,
   "id": "8dd48512",
   "metadata": {},
   "outputs": [
    {
     "data": {
      "text/plain": [
       "0     21\n",
       "1     47\n",
       "2     27\n",
       "3     75\n",
       "4     30\n",
       "5     20\n",
       "6     88\n",
       "7     60\n",
       "8     81\n",
       "9     25\n",
       "10    85\n",
       "11    62\n",
       "12    41\n",
       "13    42\n",
       "14    17\n",
       "15    95\n",
       "16    30\n",
       "17    24\n",
       "18    67\n",
       "19    69\n",
       "20    30\n",
       "21    54\n",
       "22    35\n",
       "23    76\n",
       "24    86\n",
       "Name: Scores, dtype: int64"
      ]
     },
     "execution_count": 10,
     "metadata": {},
     "output_type": "execute_result"
    }
   ],
   "source": [
    "y"
   ]
  },
  {
   "cell_type": "code",
   "execution_count": 11,
   "id": "d2f48de9",
   "metadata": {},
   "outputs": [],
   "source": [
    "import sklearn.model_selection"
   ]
  },
  {
   "cell_type": "code",
   "execution_count": 12,
   "id": "37914bf7",
   "metadata": {},
   "outputs": [],
   "source": [
    "x_train, x_test, y_train, y_test = sklearn.model_selection.train_test_split(x, y, train_size = 0.8)"
   ]
  },
  {
   "cell_type": "code",
   "execution_count": 13,
   "id": "b4090816",
   "metadata": {},
   "outputs": [
    {
     "data": {
      "text/plain": [
       "22    3.8\n",
       "21    4.8\n",
       "17    1.9\n",
       "11    5.9\n",
       "16    2.5\n",
       "6     9.2\n",
       "3     8.5\n",
       "19    7.4\n",
       "24    7.8\n",
       "2     3.2\n",
       "14    1.1\n",
       "23    6.9\n",
       "20    2.7\n",
       "13    3.3\n",
       "18    6.1\n",
       "4     3.5\n",
       "1     5.1\n",
       "15    8.9\n",
       "7     5.5\n",
       "10    7.7\n",
       "Name: Hours, dtype: float64"
      ]
     },
     "execution_count": 13,
     "metadata": {},
     "output_type": "execute_result"
    }
   ],
   "source": [
    "x_train"
   ]
  },
  {
   "cell_type": "code",
   "execution_count": 14,
   "id": "3b42f15e",
   "metadata": {},
   "outputs": [
    {
     "data": {
      "text/plain": [
       "22    35\n",
       "21    54\n",
       "17    24\n",
       "11    62\n",
       "16    30\n",
       "6     88\n",
       "3     75\n",
       "19    69\n",
       "24    86\n",
       "2     27\n",
       "14    17\n",
       "23    76\n",
       "20    30\n",
       "13    42\n",
       "18    67\n",
       "4     30\n",
       "1     47\n",
       "15    95\n",
       "7     60\n",
       "10    85\n",
       "Name: Scores, dtype: int64"
      ]
     },
     "execution_count": 14,
     "metadata": {},
     "output_type": "execute_result"
    }
   ],
   "source": [
    "y_train"
   ]
  },
  {
   "cell_type": "code",
   "execution_count": 15,
   "id": "8d636412",
   "metadata": {},
   "outputs": [
    {
     "data": {
      "text/plain": [
       "5     1.5\n",
       "0     2.5\n",
       "8     8.3\n",
       "12    4.5\n",
       "9     2.7\n",
       "Name: Hours, dtype: float64"
      ]
     },
     "execution_count": 15,
     "metadata": {},
     "output_type": "execute_result"
    }
   ],
   "source": [
    "x_test"
   ]
  },
  {
   "cell_type": "code",
   "execution_count": 16,
   "id": "4f8d7fae",
   "metadata": {},
   "outputs": [
    {
     "data": {
      "text/plain": [
       "5     20\n",
       "0     21\n",
       "8     81\n",
       "12    41\n",
       "9     25\n",
       "Name: Scores, dtype: int64"
      ]
     },
     "execution_count": 16,
     "metadata": {},
     "output_type": "execute_result"
    }
   ],
   "source": [
    "y_test"
   ]
  },
  {
   "cell_type": "code",
   "execution_count": 17,
   "id": "259ed671",
   "metadata": {
    "scrolled": true
   },
   "outputs": [
    {
     "data": {
      "text/plain": [
       "(5,)"
      ]
     },
     "execution_count": 17,
     "metadata": {},
     "output_type": "execute_result"
    }
   ],
   "source": [
    "x_test.shape"
   ]
  },
  {
   "cell_type": "code",
   "execution_count": 18,
   "id": "9e1a3b24",
   "metadata": {},
   "outputs": [],
   "source": [
    "import numpy as np"
   ]
  },
  {
   "cell_type": "code",
   "execution_count": 19,
   "id": "f92a2fb1",
   "metadata": {},
   "outputs": [],
   "source": [
    "x_train = np.array(x_train)\n",
    "y_train = np.array(y_train)\n",
    "x_test = np.array(x_test)\n",
    "y_test = np.array(y_test)"
   ]
  },
  {
   "cell_type": "code",
   "execution_count": 20,
   "id": "c2e37212",
   "metadata": {},
   "outputs": [
    {
     "data": {
      "text/plain": [
       "array([3.8, 4.8, 1.9, 5.9, 2.5, 9.2, 8.5, 7.4, 7.8, 3.2, 1.1, 6.9, 2.7,\n",
       "       3.3, 6.1, 3.5, 5.1, 8.9, 5.5, 7.7])"
      ]
     },
     "execution_count": 20,
     "metadata": {},
     "output_type": "execute_result"
    }
   ],
   "source": [
    "x_train"
   ]
  },
  {
   "cell_type": "code",
   "execution_count": 21,
   "id": "dfa638b2",
   "metadata": {},
   "outputs": [
    {
     "data": {
      "text/plain": [
       "(5,)"
      ]
     },
     "execution_count": 21,
     "metadata": {},
     "output_type": "execute_result"
    }
   ],
   "source": [
    "x_test.shape"
   ]
  },
  {
   "cell_type": "code",
   "execution_count": 41,
   "id": "f963768d",
   "metadata": {},
   "outputs": [],
   "source": [
    "x_train = x_train.reshape(-1,1)\n",
    "x_test = x_test.reshape(-1,1)\n",
    "y_test = y_test.reshape(-1,1)\n",
    "y_train = y_train.reshape(-1,1)"
   ]
  },
  {
   "cell_type": "code",
   "execution_count": 42,
   "id": "e75552a1",
   "metadata": {},
   "outputs": [
    {
     "data": {
      "text/plain": [
       "array([[1.5],\n",
       "       [2.5],\n",
       "       [8.3],\n",
       "       [4.5],\n",
       "       [2.7]])"
      ]
     },
     "execution_count": 42,
     "metadata": {},
     "output_type": "execute_result"
    }
   ],
   "source": [
    "x_test"
   ]
  },
  {
   "cell_type": "markdown",
   "id": "872e2fa9",
   "metadata": {},
   "source": [
    "## 5 - Model Seçimi ve Modelin Eğitimi"
   ]
  },
  {
   "cell_type": "code",
   "execution_count": 43,
   "id": "104d9cf1",
   "metadata": {},
   "outputs": [],
   "source": [
    "import sklearn.linear_model"
   ]
  },
  {
   "cell_type": "code",
   "execution_count": 44,
   "id": "88a9d8ae",
   "metadata": {},
   "outputs": [],
   "source": [
    "lin_model = sklearn.linear_model.LinearRegression()"
   ]
  },
  {
   "cell_type": "code",
   "execution_count": 45,
   "id": "d1a1ec85",
   "metadata": {},
   "outputs": [
    {
     "data": {
      "text/plain": [
       "LinearRegression()"
      ]
     },
     "execution_count": 45,
     "metadata": {},
     "output_type": "execute_result"
    }
   ],
   "source": [
    "lin_model.fit(x_train, y_train)"
   ]
  },
  {
   "cell_type": "markdown",
   "id": "dd9964b9",
   "metadata": {},
   "source": [
    "## 6 - Modelin Optimize Edilmesi"
   ]
  },
  {
   "cell_type": "code",
   "execution_count": 46,
   "id": "1341becf",
   "metadata": {},
   "outputs": [],
   "source": [
    "import sklearn.metrics"
   ]
  },
  {
   "cell_type": "code",
   "execution_count": 47,
   "id": "1c23747a",
   "metadata": {},
   "outputs": [],
   "source": [
    "predictions = lin_model.predict(x_test)"
   ]
  },
  {
   "cell_type": "code",
   "execution_count": 50,
   "id": "c75b0770",
   "metadata": {},
   "outputs": [
    {
     "data": {
      "text/plain": [
       "array([2.7])"
      ]
     },
     "execution_count": 50,
     "metadata": {},
     "output_type": "execute_result"
    }
   ],
   "source": [
    "x_test[-1]"
   ]
  },
  {
   "cell_type": "code",
   "execution_count": 48,
   "id": "00d2d77f",
   "metadata": {},
   "outputs": [
    {
     "data": {
      "text/plain": [
       "array([[18.2965349 ],\n",
       "       [27.96763387],\n",
       "       [84.0600079 ],\n",
       "       [47.30983181],\n",
       "       [29.90185367]])"
      ]
     },
     "execution_count": 48,
     "metadata": {},
     "output_type": "execute_result"
    }
   ],
   "source": [
    "predictions"
   ]
  },
  {
   "cell_type": "code",
   "execution_count": 53,
   "id": "2364e68a",
   "metadata": {},
   "outputs": [
    {
     "name": "stdout",
     "output_type": "stream",
     "text": [
      "0: Gerçek Değer: [20] - Tahmin: [18.2965349]\n",
      "1: Gerçek Değer: [21] - Tahmin: [27.96763387]\n",
      "2: Gerçek Değer: [81] - Tahmin: [84.0600079]\n",
      "3: Gerçek Değer: [41] - Tahmin: [47.30983181]\n",
      "4: Gerçek Değer: [25] - Tahmin: [29.90185367]\n"
     ]
    }
   ],
   "source": [
    "for i in range(len(x_test)):\n",
    "    print(f\"{i}: Gerçek Değer: {y_test[i]} - Tahmin: {predictions[i]}\")"
   ]
  },
  {
   "cell_type": "code",
   "execution_count": 56,
   "id": "243dd01c",
   "metadata": {},
   "outputs": [
    {
     "data": {
      "text/plain": [
       "4.588558470339636"
      ]
     },
     "execution_count": 56,
     "metadata": {},
     "output_type": "execute_result"
    }
   ],
   "source": [
    "#MAE\n",
    "mae = sklearn.metrics.mean_absolute_error(y_test, predictions)\n",
    "mae"
   ]
  },
  {
   "cell_type": "code",
   "execution_count": 58,
   "id": "f037fda0",
   "metadata": {},
   "outputs": [
    {
     "data": {
      "text/plain": [
       "24.931102066890823"
      ]
     },
     "execution_count": 58,
     "metadata": {},
     "output_type": "execute_result"
    }
   ],
   "source": [
    "#MSE\n",
    "mse = sklearn.metrics.mean_squared_error(y_test, predictions)\n",
    "mse"
   ]
  },
  {
   "cell_type": "code",
   "execution_count": 60,
   "id": "8de260cb",
   "metadata": {},
   "outputs": [
    {
     "data": {
      "text/plain": [
       "0.9527676908402342"
      ]
     },
     "execution_count": 60,
     "metadata": {},
     "output_type": "execute_result"
    }
   ],
   "source": [
    "#R2\n",
    "r2 = sklearn.metrics.r2_score(y_test, predictions)\n",
    "r2"
   ]
  },
  {
   "cell_type": "code",
   "execution_count": 62,
   "id": "63f9ba64",
   "metadata": {},
   "outputs": [
    {
     "name": "stdout",
     "output_type": "stream",
     "text": [
      "MAE : 4.588558470339636 - MSE : 24.931102066890823 - R2 : 0.9527676908402342 \n"
     ]
    }
   ],
   "source": [
    "print(\"MAE : {} - MSE : {} - R2 : {} \".format(mae, mse, r2))"
   ]
  },
  {
   "cell_type": "code",
   "execution_count": 63,
   "id": "b8dcee2a",
   "metadata": {},
   "outputs": [
    {
     "data": {
      "text/plain": [
       "array([[52.1453813]])"
      ]
     },
     "execution_count": 63,
     "metadata": {},
     "output_type": "execute_result"
    }
   ],
   "source": [
    "score_tahmini = lin_model.predict([[5]])\n",
    "score_tahmini"
   ]
  },
  {
   "cell_type": "code",
   "execution_count": 69,
   "id": "302624c0",
   "metadata": {},
   "outputs": [
    {
     "data": {
      "image/png": "[encoded data removed]",
      "text/plain": [
       "<Figure size 432x288 with 1 Axes>"
      ]
     },
     "metadata": {
      "needs_background": "light"
     },
     "output_type": "display_data"
    }
   ],
   "source": [
    "x_predictions = lin_model.predict(x_train)\n",
    "\n",
    "plt.scatter(x=df[\"Hours\"], y=df[\"Scores\"], color = \"green\")\n",
    "plt.plot(x_train, x_predictions)\n",
    "plt.scatter(x=9, y = lin_model.predict([[9]]), color = \"red\")\n",
    "\n",
    "plt.xlabel(\"Hours\")\n",
    "plt.ylabel(\"Scores\")\n",
    "\n",
    "plt.title(\"Hours vs Scores\")\n",
    "plt.show()"
   ]
  }
 ],
 "metadata": {
  "kernelspec": {
   "display_name": "Python 3 (ipykernel)",
   "language": "python",
   "name": "python3"
  },
  "language_info": {
   "codemirror_mode": {
    "name": "ipython",
    "version": 3
   },
   "file_extension": ".py",
   "mimetype": "text/x-python",
   "name": "python",
   "nbconvert_exporter": "python",
   "pygments_lexer": "ipython3",
   "version": "3.9.12"
  }
 },
 "nbformat": 4,
 "nbformat_minor": 5
}
