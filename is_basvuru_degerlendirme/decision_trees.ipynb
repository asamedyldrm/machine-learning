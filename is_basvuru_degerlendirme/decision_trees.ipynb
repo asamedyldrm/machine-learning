{
 "cells": [
  {
   "cell_type": "markdown",
   "id": "0dd838a9",
   "metadata": {},
   "source": [
    "### Decision Tree Classification (Karar Ağaçları)"
   ]
  },
  {
   "cell_type": "markdown",
   "id": "b2c4fd0d",
   "metadata": {},
   "source": [
    "* Akış diyagramları kullanılır.\n",
    "* Denetimli Öğrenme konsepti kapsamındadır."
   ]
  }
 ],
 "metadata": {
  "kernelspec": {
   "display_name": "Python 3 (ipykernel)",
   "language": "python",
   "name": "python3"
  },
  "language_info": {
   "codemirror_mode": {
    "name": "ipython",
    "version": 3
   },
   "file_extension": ".py",
   "mimetype": "text/x-python",
   "name": "python",
   "nbconvert_exporter": "python",
   "pygments_lexer": "ipython3",
   "version": "3.9.12"
  }
 },
 "nbformat": 4,
 "nbformat_minor": 5
}
