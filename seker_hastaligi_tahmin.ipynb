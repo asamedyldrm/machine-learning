{
 "cells": [
  {
   "cell_type": "markdown",
   "id": "a9e0180a",
   "metadata": {},
   "source": [
    "## K - Nearest Neighbours (KNN)\n",
    "\n",
    "* Daha önce elde edilen noktalara bakarak yeni bir nokta geldiği zaman onun hangi grupta olduğunu bulmak için kullanılır.\n",
    "* En yakındaki K tane komşu nokta bulunur.\n",
    "* En çok hangi gruptan komşu nokta varsa yeni gelen noktanın o gruptan olduğu kabul edilir."
   ]
  },
  {
   "cell_type": "code",
   "execution_count": null,
   "id": "a80a476e",
   "metadata": {},
   "outputs": [],
   "source": []
  }
 ],
 "metadata": {
  "kernelspec": {
   "display_name": "Python 3 (ipykernel)",
   "language": "python",
   "name": "python3"
  },
  "language_info": {
   "codemirror_mode": {
    "name": "ipython",
    "version": 3
   },
   "file_extension": ".py",
   "mimetype": "text/x-python",
   "name": "python",
   "nbconvert_exporter": "python",
   "pygments_lexer": "ipython3",
   "version": "3.9.12"
  }
 },
 "nbformat": 4,
 "nbformat_minor": 5
}
