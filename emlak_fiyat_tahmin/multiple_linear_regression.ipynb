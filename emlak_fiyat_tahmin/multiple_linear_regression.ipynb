{
 "cells": [
  {
   "cell_type": "markdown",
   "id": "58fe70f0",
   "metadata": {},
   "source": [
    "### Multiple Linear Regression\n",
    "\n",
    "* Multiple Linear Regression Hesaplaması:\n",
    "y = a + b1X1 + b2X2 + b3X3 denklemindeki a ve b(i) sayılarının hesaplanmasıdır.\n",
    "\n",
    "* Biz Python'a örnek veri setimizi verdiğimizde Python bizim için a ve b(i) değerlerini hesaplar ve yeni X değerlerimiz için Y'yi hesaplayıp sonuç olarak verecek fonksiyonu üretir.\n",
    "* Birden fazla bağımsız değişken var ve sadece bir tane bağımlı değişken var. (Dependent ve independent)\n",
    "\n",
    "#### Linear Regression\n",
    "* Linear Regression hesaplaması y = a + bX şeklinde a ve b'nin hesaplanmasıydı.\n",
    "\n",
    "**Multiple Linear Regression'da birden fazla bağımsız(independent) değişkene karşılık bir bağımlı(dependent) değişken bulunur.**\n",
    "*linear Regression veriler arasında var olan korelasyonu(ilişkiyi) kullanarak yeni gelecek verileri tahmin etme modelidir. Makine öğrenmesi modeli bize veriler arasındaki bu ilişkiyi belirlememize yardımcı olur ve bu sayede yeni verileri tahmin edebiliriz."
   ]
  },
  {
   "cell_type": "code",
   "execution_count": 1,
   "id": "b919a94b",
   "metadata": {},
   "outputs": [],
   "source": [
    "import pandas as pd\n",
    "import matplotlib.pyplot as plt\n",
    "# sklearn library\n",
    "from sklearn import linear_model"
   ]
  },
  {
   "cell_type": "code",
   "execution_count": null,
   "id": "5d3ab877",
   "metadata": {},
   "outputs": [],
   "source": [
    "df = pd.read_csv(\"multilinearregression.csv\", sep = \";\")"
   ]
  },
  {
   "cell_type": "code",
   "execution_count": null,
   "id": "beff597e",
   "metadata": {},
   "outputs": [],
   "source": [
    "df"
   ]
  },
  {
   "cell_type": "code",
   "execution_count": null,
   "id": "5a91f63e",
   "metadata": {
    "scrolled": true
   },
   "outputs": [],
   "source": [
    "# Linear Regression modeli tanımlıyoruz.\n",
    "reg = linear_model.LinearRegression()\n",
    "reg.fit(df[[\"alan\",\"odasayisi\",\"binayasi\"]], df[\"fiyat\"])\n",
    "\n",
    "# Prediction yapalım.\n",
    "reg.predict([[230,4,10]])"
   ]
  },
  {
   "cell_type": "markdown",
   "id": "79964290",
   "metadata": {},
   "source": [
    "### Eğitilen Makine Öğrenme Modelini Kaydetme ve Yükleme"
   ]
  },
  {
   "cell_type": "markdown",
   "id": "1c2b4750",
   "metadata": {},
   "source": [
    "### MODELİ YÜKLEME"
   ]
  },
  {
   "cell_type": "code",
   "execution_count": 3,
   "id": "949e3250",
   "metadata": {},
   "outputs": [],
   "source": [
    "import pickle"
   ]
  },
  {
   "cell_type": "code",
   "execution_count": 4,
   "id": "b1d0c55d",
   "metadata": {},
   "outputs": [],
   "source": [
    "mymodel = pickle.load(open(\"evfiyattahmini_mlr_model.pickle\", \"rb\"))"
   ]
  },
  {
   "cell_type": "code",
   "execution_count": 5,
   "id": "56b2f935",
   "metadata": {
    "scrolled": false
   },
   "outputs": [
    {
     "name": "stderr",
     "output_type": "stream",
     "text": [
      "C:\\Users\\user\\anaconda3\\lib\\site-packages\\sklearn\\base.py:450: UserWarning: X does not have valid feature names, but LinearRegression was fitted with feature names\n",
      "  warnings.warn(\n"
     ]
    },
    {
     "data": {
      "text/plain": [
       "array([530243.29284619])"
      ]
     },
     "execution_count": 5,
     "metadata": {},
     "output_type": "execute_result"
    }
   ],
   "source": [
    "mymodel.predict([[230,4,10]])"
   ]
  },
  {
   "cell_type": "markdown",
   "id": "3dd26436",
   "metadata": {},
   "source": [
    "### KAYDETME"
   ]
  },
  {
   "cell_type": "code",
   "execution_count": null,
   "id": "759ae800",
   "metadata": {},
   "outputs": [],
   "source": [
    "model_dosyasi = \"evfiyattahmini_mlr_model.pickle\""
   ]
  },
  {
   "cell_type": "code",
   "execution_count": null,
   "id": "a4661b90",
   "metadata": {},
   "outputs": [],
   "source": [
    "pickle.dump(reg, open(model_dosyasi, \"wb\")) #Burada wb: open for writing and open in binary mode anlamına gelir."
   ]
  },
  {
   "cell_type": "markdown",
   "id": "a5d57f3f",
   "metadata": {},
   "source": [
    "# İŞLEM DEVAMI...\n",
    "### Şu 3 evin fiyatını tahmin edelim!\n",
    "* 230m2 - 4 oda - bina yaşı: 10\n",
    "* 230m2 - 6 oda - bina yaşı : 0\n",
    "* 355m2 - 3 oda - bina yaşı : 20"
   ]
  },
  {
   "cell_type": "code",
   "execution_count": null,
   "id": "09d73678",
   "metadata": {},
   "outputs": [],
   "source": [
    "print(\"230m2 - 4 oda - bina yaşı: 10 - fiyat : \", int(reg.predict([[230,4,10]])), \"TL\")\n",
    "print(\"230m2 - 6 oda - bina yaşı : 0 - fiyat : \", int(reg.predict([[230,6,0]])), \"TL\")\n",
    "print(\"355m2 - 3 oda - bina yaşı : 20 - fiyat : \", int(reg.predict([[355,3,20]])), \"TL\")"
   ]
  },
  {
   "cell_type": "code",
   "execution_count": null,
   "id": "82da8219",
   "metadata": {},
   "outputs": [],
   "source": [
    "reg.predict([[230,4,10],[230,6,0],[355,3,20]]) #bu şekilde tek bir satırda da hesaplayabiliriz."
   ]
  },
  {
   "cell_type": "markdown",
   "id": "04a60aee",
   "metadata": {},
   "source": [
    "**Katsayılar:**"
   ]
  },
  {
   "cell_type": "code",
   "execution_count": null,
   "id": "53598906",
   "metadata": {},
   "outputs": [],
   "source": [
    "reg.coef_"
   ]
  },
  {
   "cell_type": "markdown",
   "id": "29958a9b",
   "metadata": {},
   "source": [
    "**Sabit Değerler:**"
   ]
  },
  {
   "cell_type": "code",
   "execution_count": null,
   "id": "f3f6c379",
   "metadata": {},
   "outputs": [],
   "source": [
    "reg.intercept_"
   ]
  },
  {
   "cell_type": "code",
   "execution_count": null,
   "id": "05d3bb88",
   "metadata": {},
   "outputs": [],
   "source": [
    "# Multiple Linear Regression formülümüze dönelim:\n",
    "# y = a + b1x1 + b2x2 + b3x3 ...\n",
    "\n",
    "a = reg.intercept_\n",
    "b1 = reg.coef_[0]\n",
    "b2 = reg.coef_[1]\n",
    "b3 = reg.coef_[2]\n",
    "\n",
    "x1 = 230\n",
    "x2 = 4\n",
    "x3 = 10\n",
    "\n",
    "y = a + b1*x1 + b2*x2 + b3*x3\n"
   ]
  },
  {
   "cell_type": "code",
   "execution_count": null,
   "id": "b3b8d7ec",
   "metadata": {},
   "outputs": [],
   "source": [
    "y"
   ]
  },
  {
   "cell_type": "code",
   "execution_count": null,
   "id": "0a454782",
   "metadata": {},
   "outputs": [],
   "source": [
    "reg.predict([[230,4,10]])"
   ]
  }
 ],
 "metadata": {
  "kernelspec": {
   "display_name": "Python 3 (ipykernel)",
   "language": "python",
   "name": "python3"
  },
  "language_info": {
   "codemirror_mode": {
    "name": "ipython",
    "version": 3
   },
   "file_extension": ".py",
   "mimetype": "text/x-python",
   "name": "python",
   "nbconvert_exporter": "python",
   "pygments_lexer": "ipython3",
   "version": "3.9.12"
  }
 },
 "nbformat": 4,
 "nbformat_minor": 5
}
