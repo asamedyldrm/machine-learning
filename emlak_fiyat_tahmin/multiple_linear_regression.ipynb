{
 "cells": [
  {
   "cell_type": "markdown",
   "id": "38c092a5",
   "metadata": {},
   "source": [
    "### Multiple Linear Regression\n",
    "\n",
    "* Multiple Linear Regression Hesaplaması:\n",
    "y = a + b1X1 + b2X2 + b3X3 denklemindeki a ve b(i) sayılarının hesaplanmasıdır.\n",
    "\n",
    "* Biz Python'a örnek veri setimizi verdiğimizde Python bizim için a ve b(i) değerlerini hesaplar ve yeni X değerlerimiz için Y'yi hesaplayıp sonuç olarak verecek fonksiyonu üretir.\n",
    "* Birden fazla bağımsız değişken var ve sadece bir tane bağımlı değişken var. (Dependent ve independent)\n",
    "\n",
    "#### Linear Regression\n",
    "* Linear Regression hesaplaması y = a + bX şeklinde a ve b'nin hesaplanmasıydı."
   ]
  },
  {
   "cell_type": "code",
   "execution_count": null,
   "id": "aef08247",
   "metadata": {},
   "outputs": [],
   "source": []
  }
 ],
 "metadata": {
  "kernelspec": {
   "display_name": "Python 3 (ipykernel)",
   "language": "python",
   "name": "python3"
  },
  "language_info": {
   "codemirror_mode": {
    "name": "ipython",
    "version": 3
   },
   "file_extension": ".py",
   "mimetype": "text/x-python",
   "name": "python",
   "nbconvert_exporter": "python",
   "pygments_lexer": "ipython3",
   "version": "3.9.12"
  }
 },
 "nbformat": 4,
 "nbformat_minor": 5
}
