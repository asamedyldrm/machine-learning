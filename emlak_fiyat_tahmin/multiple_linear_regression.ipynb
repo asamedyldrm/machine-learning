{
 "cells": [
  {
   "cell_type": "markdown",
   "id": "31e375e2",
   "metadata": {},
   "source": [
    "### Multiple Linear Regression\n",
    "\n",
    "* Multiple Linear Regression Hesaplaması:\n",
    "y = a + b1X1 + b2X2 + b3X3 denklemindeki a ve b(i) sayılarının hesaplanmasıdır.\n",
    "\n",
    "* Biz Python'a örnek veri setimizi verdiğimizde Python bizim için a ve b(i) değerlerini hesaplar ve yeni X değerlerimiz için Y'yi hesaplayıp sonuç olarak verecek fonksiyonu üretir.\n",
    "* Birden fazla bağımsız değişken var ve sadece bir tane bağımlı değişken var. (Dependent ve independent)\n",
    "\n",
    "#### Linear Regression\n",
    "* Linear Regression hesaplaması y = a + bX şeklinde a ve b'nin hesaplanmasıydı.\n",
    "\n",
    "**Multiple Linear Regression'da birden fazla bağımsız(independent) değişkene karşılık bir bağımlı(dependent) değişken bulunur.**\n",
    "*linear Regression veriler arasında var olan korelasyonu(ilişkiyi) kullanarak yeni gelecek verileri tahmin etme modelidir. Makine öğrenmesi modeli bize veriler arasındaki bu ilişkiyi belirlememize yardımcı olur ve bu sayede yeni verileri tahmin edebiliriz."
   ]
  },
  {
   "cell_type": "code",
   "execution_count": 1,
   "id": "eb637c29",
   "metadata": {},
   "outputs": [],
   "source": [
    "import pandas as pd\n",
    "import matplotlib.pyplot as plt\n",
    "# sklearn library\n",
    "from sklearn import linear_model"
   ]
  },
  {
   "cell_type": "code",
   "execution_count": 2,
   "id": "d1538edb",
   "metadata": {},
   "outputs": [],
   "source": [
    "df = pd.read_csv(\"multilinearregression.csv\", sep = \";\")"
   ]
  },
  {
   "cell_type": "code",
   "execution_count": 3,
   "id": "0a555708",
   "metadata": {},
   "outputs": [
    {
     "data": {
      "text/html": [
       "<div>\n",
       "<style scoped>\n",
       "    .dataframe tbody tr th:only-of-type {\n",
       "        vertical-align: middle;\n",
       "    }\n",
       "\n",
       "    .dataframe tbody tr th {\n",
       "        vertical-align: top;\n",
       "    }\n",
       "\n",
       "    .dataframe thead th {\n",
       "        text-align: right;\n",
       "    }\n",
       "</style>\n",
       "<table border=\"1\" class=\"dataframe\">\n",
       "  <thead>\n",
       "    <tr style=\"text-align: right;\">\n",
       "      <th></th>\n",
       "      <th>alan</th>\n",
       "      <th>odasayisi</th>\n",
       "      <th>binayasi</th>\n",
       "      <th>fiyat</th>\n",
       "    </tr>\n",
       "  </thead>\n",
       "  <tbody>\n",
       "    <tr>\n",
       "      <th>0</th>\n",
       "      <td>180</td>\n",
       "      <td>5</td>\n",
       "      <td>10</td>\n",
       "      <td>510000</td>\n",
       "    </tr>\n",
       "    <tr>\n",
       "      <th>1</th>\n",
       "      <td>225</td>\n",
       "      <td>4</td>\n",
       "      <td>18</td>\n",
       "      <td>508000</td>\n",
       "    </tr>\n",
       "    <tr>\n",
       "      <th>2</th>\n",
       "      <td>260</td>\n",
       "      <td>3</td>\n",
       "      <td>2</td>\n",
       "      <td>548000</td>\n",
       "    </tr>\n",
       "    <tr>\n",
       "      <th>3</th>\n",
       "      <td>320</td>\n",
       "      <td>6</td>\n",
       "      <td>10</td>\n",
       "      <td>650000</td>\n",
       "    </tr>\n",
       "    <tr>\n",
       "      <th>4</th>\n",
       "      <td>335</td>\n",
       "      <td>4</td>\n",
       "      <td>9</td>\n",
       "      <td>628000</td>\n",
       "    </tr>\n",
       "    <tr>\n",
       "      <th>5</th>\n",
       "      <td>345</td>\n",
       "      <td>5</td>\n",
       "      <td>14</td>\n",
       "      <td>632000</td>\n",
       "    </tr>\n",
       "    <tr>\n",
       "      <th>6</th>\n",
       "      <td>355</td>\n",
       "      <td>3</td>\n",
       "      <td>0</td>\n",
       "      <td>680000</td>\n",
       "    </tr>\n",
       "    <tr>\n",
       "      <th>7</th>\n",
       "      <td>400</td>\n",
       "      <td>4</td>\n",
       "      <td>10</td>\n",
       "      <td>725000</td>\n",
       "    </tr>\n",
       "  </tbody>\n",
       "</table>\n",
       "</div>"
      ],
      "text/plain": [
       "   alan  odasayisi  binayasi   fiyat\n",
       "0   180          5        10  510000\n",
       "1   225          4        18  508000\n",
       "2   260          3         2  548000\n",
       "3   320          6        10  650000\n",
       "4   335          4         9  628000\n",
       "5   345          5        14  632000\n",
       "6   355          3         0  680000\n",
       "7   400          4        10  725000"
      ]
     },
     "execution_count": 3,
     "metadata": {},
     "output_type": "execute_result"
    }
   ],
   "source": [
    "df"
   ]
  },
  {
   "cell_type": "code",
   "execution_count": 4,
   "id": "03cd9a0b",
   "metadata": {
    "scrolled": true
   },
   "outputs": [
    {
     "name": "stderr",
     "output_type": "stream",
     "text": [
      "C:\\Users\\user\\anaconda3\\lib\\site-packages\\sklearn\\base.py:450: UserWarning: X does not have valid feature names, but LinearRegression was fitted with feature names\n",
      "  warnings.warn(\n"
     ]
    },
    {
     "data": {
      "text/plain": [
       "array([530243.29284619])"
      ]
     },
     "execution_count": 4,
     "metadata": {},
     "output_type": "execute_result"
    }
   ],
   "source": [
    "# Linear Regression modeli tanımlıyoruz.\n",
    "reg = linear_model.LinearRegression()\n",
    "reg.fit(df[[\"alan\",\"odasayisi\",\"binayasi\"]], df[\"fiyat\"])\n",
    "\n",
    "# Prediction yapalım.\n",
    "reg.predict([[230,4,10]])"
   ]
  },
  {
   "cell_type": "markdown",
   "id": "3c6572d3",
   "metadata": {},
   "source": [
    "### Eğitilen Makine Öğrenme Modelini Kaydetme ve Yükleme"
   ]
  },
  {
   "cell_type": "code",
   "execution_count": null,
   "id": "9066183d",
   "metadata": {},
   "outputs": [],
   "source": []
  },
  {
   "cell_type": "code",
   "execution_count": 5,
   "id": "a766aae1",
   "metadata": {},
   "outputs": [],
   "source": [
    "import pickle"
   ]
  },
  {
   "cell_type": "code",
   "execution_count": null,
   "id": "fc847459",
   "metadata": {},
   "outputs": [],
   "source": [
    "model_dosyasi = \"evfiyattahmini_mlr_model.pickle\""
   ]
  },
  {
   "cell_type": "code",
   "execution_count": null,
   "id": "a203d607",
   "metadata": {},
   "outputs": [],
   "source": [
    "pickle.dump(reg, open(model_dosyasi, \"wb\")) #Burada wb: open for writing and open in binary mode anlamına gelir."
   ]
  },
  {
   "cell_type": "code",
   "execution_count": null,
   "id": "a950fe04",
   "metadata": {},
   "outputs": [],
   "source": []
  },
  {
   "cell_type": "code",
   "execution_count": null,
   "id": "3e44d0da",
   "metadata": {},
   "outputs": [],
   "source": []
  },
  {
   "cell_type": "markdown",
   "id": "771112b0",
   "metadata": {},
   "source": [
    "**Şu 3 evin fiyatını tahmin edelim!**\n",
    "* 230m2 - 4 oda - bina yaşı: 10\n",
    "* 230m2 - 6 oda - bina yaşı : 0\n",
    "* 355m2 - 3 oda - bina yaşı : 20"
   ]
  },
  {
   "cell_type": "code",
   "execution_count": null,
   "id": "31414a0e",
   "metadata": {},
   "outputs": [],
   "source": [
    "print(\"230m2 - 4 oda - bina yaşı: 10 - fiyat : \", int(reg.predict([[230,4,10]])), \"TL\")\n",
    "print(\"230m2 - 6 oda - bina yaşı : 0 - fiyat : \", int(reg.predict([[230,6,0]])), \"TL\")\n",
    "print(\"355m2 - 3 oda - bina yaşı : 20 - fiyat : \", int(reg.predict([[355,3,20]])), \"TL\")"
   ]
  },
  {
   "cell_type": "code",
   "execution_count": null,
   "id": "bf79097b",
   "metadata": {},
   "outputs": [],
   "source": [
    "reg.predict([[230,4,10],[230,6,0],[355,3,20]]) #bu şekilde tek bir satırda da hesaplayabiliriz."
   ]
  },
  {
   "cell_type": "markdown",
   "id": "667b8719",
   "metadata": {},
   "source": [
    "**Katsayılar:**"
   ]
  },
  {
   "cell_type": "code",
   "execution_count": null,
   "id": "5a6d4876",
   "metadata": {},
   "outputs": [],
   "source": [
    "reg.coef_"
   ]
  },
  {
   "cell_type": "markdown",
   "id": "e224632c",
   "metadata": {},
   "source": [
    "**Sabit Değerler:**"
   ]
  },
  {
   "cell_type": "code",
   "execution_count": null,
   "id": "27e2a692",
   "metadata": {},
   "outputs": [],
   "source": [
    "reg.intercept_"
   ]
  },
  {
   "cell_type": "code",
   "execution_count": null,
   "id": "e9c1cef1",
   "metadata": {},
   "outputs": [],
   "source": [
    "# Multiple Linear Regression formülümüze dönelim:\n",
    "# y = a + b1x1 + b2x2 + b3x3 ...\n",
    "\n",
    "a = reg.intercept_\n",
    "b1 = reg.coef_[0]\n",
    "b2 = reg.coef_[1]\n",
    "b3 = reg.coef_[2]\n",
    "\n",
    "x1 = 230\n",
    "x2 = 4\n",
    "x3 = 10\n",
    "\n",
    "y = a + b1*x1 + b2*x2 + b3*x3\n"
   ]
  },
  {
   "cell_type": "code",
   "execution_count": null,
   "id": "4574fae0",
   "metadata": {},
   "outputs": [],
   "source": [
    "y"
   ]
  },
  {
   "cell_type": "code",
   "execution_count": null,
   "id": "6922fcd2",
   "metadata": {},
   "outputs": [],
   "source": [
    "reg.predict([[230,4,10]])"
   ]
  },
  {
   "cell_type": "code",
   "execution_count": null,
   "id": "b49b0794",
   "metadata": {},
   "outputs": [],
   "source": []
  }
 ],
 "metadata": {
  "kernelspec": {
   "display_name": "Python 3 (ipykernel)",
   "language": "python",
   "name": "python3"
  },
  "language_info": {
   "codemirror_mode": {
    "name": "ipython",
    "version": 3
   },
   "file_extension": ".py",
   "mimetype": "text/x-python",
   "name": "python",
   "nbconvert_exporter": "python",
   "pygments_lexer": "ipython3",
   "version": "3.9.12"
  }
 },
 "nbformat": 4,
 "nbformat_minor": 5
}
