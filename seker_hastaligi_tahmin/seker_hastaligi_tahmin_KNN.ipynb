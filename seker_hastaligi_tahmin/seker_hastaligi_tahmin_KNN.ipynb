{
 "cells": [
  {
   "cell_type": "markdown",
   "id": "d945e568",
   "metadata": {},
   "source": [
    "## K - Nearest Neighbors (KNN Algoritması)\n",
    "\n",
    "\n",
    "* Bir sınıflandırma algoritmasıdır.\n",
    "* Daha önce elde edilen noktalara bakarak yeni bir nokta geldiği zaman onun hangi grupta olduğunu bulmak için kullanılır.\n",
    "* En yakındaki K tane komşu nokta bulunur.\n",
    "* En çok hangi gruptan komşu nokta varsa yeni gelen noktanın o gruptan olduğu kabul edilir.\n",
    "\n",
    "* Yapay Zeka algoritması (KNN modeli) yeni noktanın hangi grupta olduğunu bulurken Euclidean distance (Öklid mesafesi) hesaplamasını kullanır. Yani Pisagor.\n",
    "\n",
    "* Kaggle'da 768 Hintli kadın hastanın kaydı bulunan gerçek tıp veri setini direkt kullanacağız.\n",
    "\n",
    "### Amaç\n",
    "\n",
    "Veri setimizi iki kısma ayıracağız.\n",
    "\n",
    "* 1.kısmı eğitmek için\n",
    "* 2.kısmı test etmek için kullanacağız.\n"
   ]
  },
  {
   "cell_type": "code",
   "execution_count": 1,
   "id": "6be81671",
   "metadata": {},
   "outputs": [
    {
     "data": {
      "text/html": [
       "<div>\n",
       "<style scoped>\n",
       "    .dataframe tbody tr th:only-of-type {\n",
       "        vertical-align: middle;\n",
       "    }\n",
       "\n",
       "    .dataframe tbody tr th {\n",
       "        vertical-align: top;\n",
       "    }\n",
       "\n",
       "    .dataframe thead th {\n",
       "        text-align: right;\n",
       "    }\n",
       "</style>\n",
       "<table border=\"1\" class=\"dataframe\">\n",
       "  <thead>\n",
       "    <tr style=\"text-align: right;\">\n",
       "      <th></th>\n",
       "      <th>Pregnancies</th>\n",
       "      <th>Glucose</th>\n",
       "      <th>BloodPressure</th>\n",
       "      <th>SkinThickness</th>\n",
       "      <th>Insulin</th>\n",
       "      <th>BMI</th>\n",
       "      <th>DiabetesPedigreeFunction</th>\n",
       "      <th>Age</th>\n",
       "      <th>Outcome</th>\n",
       "    </tr>\n",
       "  </thead>\n",
       "  <tbody>\n",
       "    <tr>\n",
       "      <th>0</th>\n",
       "      <td>6</td>\n",
       "      <td>148</td>\n",
       "      <td>72</td>\n",
       "      <td>35</td>\n",
       "      <td>0</td>\n",
       "      <td>33.6</td>\n",
       "      <td>0.627</td>\n",
       "      <td>50</td>\n",
       "      <td>1</td>\n",
       "    </tr>\n",
       "    <tr>\n",
       "      <th>1</th>\n",
       "      <td>1</td>\n",
       "      <td>85</td>\n",
       "      <td>66</td>\n",
       "      <td>29</td>\n",
       "      <td>0</td>\n",
       "      <td>26.6</td>\n",
       "      <td>0.351</td>\n",
       "      <td>31</td>\n",
       "      <td>0</td>\n",
       "    </tr>\n",
       "    <tr>\n",
       "      <th>2</th>\n",
       "      <td>8</td>\n",
       "      <td>183</td>\n",
       "      <td>64</td>\n",
       "      <td>0</td>\n",
       "      <td>0</td>\n",
       "      <td>23.3</td>\n",
       "      <td>0.672</td>\n",
       "      <td>32</td>\n",
       "      <td>1</td>\n",
       "    </tr>\n",
       "    <tr>\n",
       "      <th>3</th>\n",
       "      <td>1</td>\n",
       "      <td>89</td>\n",
       "      <td>66</td>\n",
       "      <td>23</td>\n",
       "      <td>94</td>\n",
       "      <td>28.1</td>\n",
       "      <td>0.167</td>\n",
       "      <td>21</td>\n",
       "      <td>0</td>\n",
       "    </tr>\n",
       "    <tr>\n",
       "      <th>4</th>\n",
       "      <td>0</td>\n",
       "      <td>137</td>\n",
       "      <td>40</td>\n",
       "      <td>35</td>\n",
       "      <td>168</td>\n",
       "      <td>43.1</td>\n",
       "      <td>2.288</td>\n",
       "      <td>33</td>\n",
       "      <td>1</td>\n",
       "    </tr>\n",
       "  </tbody>\n",
       "</table>\n",
       "</div>"
      ],
      "text/plain": [
       "   Pregnancies  Glucose  BloodPressure  SkinThickness  Insulin   BMI  \\\n",
       "0            6      148             72             35        0  33.6   \n",
       "1            1       85             66             29        0  26.6   \n",
       "2            8      183             64              0        0  23.3   \n",
       "3            1       89             66             23       94  28.1   \n",
       "4            0      137             40             35      168  43.1   \n",
       "\n",
       "   DiabetesPedigreeFunction  Age  Outcome  \n",
       "0                     0.627   50        1  \n",
       "1                     0.351   31        0  \n",
       "2                     0.672   32        1  \n",
       "3                     0.167   21        0  \n",
       "4                     2.288   33        1  "
      ]
     },
     "execution_count": 1,
     "metadata": {},
     "output_type": "execute_result"
    }
   ],
   "source": [
    "import pandas as pd\n",
    "import matplotlib.pyplot as plt\n",
    "import numpy as np\n",
    "from sklearn.model_selection import train_test_split\n",
    "from sklearn.neighbors import KNeighborsClassifier\n",
    "\n",
    "# Outcome = 1 Diabet / Şeker Hastası\n",
    "# Outcome = 0 Sağlıklı\n",
    "\n",
    "df = pd.read_csv(\"diabetes.csv\")\n",
    "df.head()"
   ]
  },
  {
   "cell_type": "code",
   "execution_count": 2,
   "id": "a25e871f",
   "metadata": {},
   "outputs": [
    {
     "data": {
      "image/png": "[encoded data removed]",
      "text/plain": [
       "<Figure size 432x288 with 1 Axes>"
      ]
     },
     "metadata": {
      "needs_background": "light"
     },
     "output_type": "display_data"
    }
   ],
   "source": [
    "saglikli = df[df.Outcome == 0]\n",
    "hasta = df[df.Outcome == 1]\n",
    "\n",
    "# Şimdilik yalnızca glikoza seviyesine göre bir grafik çizeceğiz. \n",
    "# Program sonunda yapay zeka tüm verilere göre bir tahmin yapacak.\n",
    "\n",
    "plt.scatter(saglikli.Age, saglikli.Glucose, color = \"green\", label = \"Sağlıklı\", alpha = 0.4) #alpha : saydamlık\n",
    "plt.scatter(hasta.Age, hasta.Glucose, color = \"red\", label = \"Hasta\", alpha = 0.4)\n",
    "plt.xlabel(\"Age(Yaş)\")\n",
    "plt.ylabel(\"Glucose(Glikoz)\")\n",
    "plt.legend();"
   ]
  },
  {
   "cell_type": "code",
   "execution_count": 3,
   "id": "57826691",
   "metadata": {
    "scrolled": true
   },
   "outputs": [
    {
     "name": "stderr",
     "output_type": "stream",
     "text": [
      "C:\\Users\\user\\anaconda3\\lib\\site-packages\\numpy\\core\\fromnumeric.py:84: FutureWarning: In a future version, DataFrame.min(axis=None) will return a scalar min over the entire DataFrame. To retain the old behavior, use 'frame.min(axis=0)' or just 'frame.min()'\n",
      "  return reduction(axis=axis, out=out, **passkwargs)\n",
      "C:\\Users\\user\\anaconda3\\lib\\site-packages\\numpy\\core\\fromnumeric.py:84: FutureWarning: In a future version, DataFrame.max(axis=None) will return a scalar max over the entire DataFrame. To retain the old behavior, use 'frame.max(axis=0)' or just 'frame.max()'\n",
      "  return reduction(axis=axis, out=out, **passkwargs)\n"
     ]
    }
   ],
   "source": [
    "# x ve y eksenlerini belirleyelim.\n",
    "y = df.Outcome.values\n",
    "x_ham_veri = df.drop([\"Outcome\"], axis = 1)\n",
    "\n",
    "# Outcome sütununu (dependent variable) çıkarıp sadece independent verileri bırakıyoruz.\n",
    "# Çünkü KNN algoritması x değerleri içinde gruplandırma yapacak.\n",
    "\n",
    "# normalization yapıyoruz - x_ham_veri içerisindeki değerleri sadece 0 ve 1 arasında olacak şekilde hepsini güncelliyoruz.\n",
    "# Eğer bu şekilde normalization yapmazsak yüksek rakamlar küçük rakamları ezer ve algoritmayı yanıltabilir.\n",
    "x = (x_ham_veri - np.min(x_ham_veri))/(np.max(x_ham_veri) - np.min(x_ham_veri))"
   ]
  },
  {
   "cell_type": "code",
   "execution_count": 4,
   "id": "c94817eb",
   "metadata": {},
   "outputs": [
    {
     "name": "stdout",
     "output_type": "stream",
     "text": [
      "Normalization öncesi ham veriler: \n",
      "\n",
      "   Pregnancies  Glucose  BloodPressure  SkinThickness  Insulin   BMI  \\\n",
      "0            6      148             72             35        0  33.6   \n",
      "1            1       85             66             29        0  26.6   \n",
      "2            8      183             64              0        0  23.3   \n",
      "3            1       89             66             23       94  28.1   \n",
      "4            0      137             40             35      168  43.1   \n",
      "\n",
      "   DiabetesPedigreeFunction  Age  \n",
      "0                     0.627   50  \n",
      "1                     0.351   31  \n",
      "2                     0.672   32  \n",
      "3                     0.167   21  \n",
      "4                     2.288   33  \n",
      "\n",
      "\n",
      "\n",
      " Normalization sonrası yapay zekayı eğitmek için kullanacağımız veriler:\n",
      "\n",
      "   Pregnancies   Glucose  BloodPressure  SkinThickness   Insulin       BMI  \\\n",
      "0     0.352941  0.743719       0.590164       0.353535  0.000000  0.500745   \n",
      "1     0.058824  0.427136       0.540984       0.292929  0.000000  0.396423   \n",
      "2     0.470588  0.919598       0.524590       0.000000  0.000000  0.347243   \n",
      "3     0.058824  0.447236       0.540984       0.232323  0.111111  0.418778   \n",
      "4     0.000000  0.688442       0.327869       0.353535  0.198582  0.642325   \n",
      "\n",
      "   DiabetesPedigreeFunction       Age  \n",
      "0                  0.234415  0.483333  \n",
      "1                  0.116567  0.166667  \n",
      "2                  0.253629  0.183333  \n",
      "3                  0.038002  0.000000  \n",
      "4                  0.943638  0.200000  \n"
     ]
    }
   ],
   "source": [
    "# önce\n",
    "print(\"Normalization öncesi ham veriler: \\n\")\n",
    "print(x_ham_veri.head())\n",
    "\n",
    "# sonra\n",
    "print(\"\\n\\n\\n Normalization sonrası yapay zekayı eğitmek için kullanacağımız veriler:\\n\")\n",
    "print(x.head())"
   ]
  },
  {
   "cell_type": "markdown",
   "id": "45387666",
   "metadata": {},
   "source": [
    "* train datamız ile test datamızı ayırıyoruz.\n",
    "* train datamız sistemin sağlıklı insan ile hasta insanı ayırt etmesini öğrenmek için kullanılacak.\n",
    "* test datamız ise makine öğrenme modelimizin hasta ile sağlıklı insanı doğru ayırt edip etmediğini test edecek."
   ]
  },
  {
   "cell_type": "code",
   "execution_count": 5,
   "id": "78735e3f",
   "metadata": {},
   "outputs": [],
   "source": [
    "x_train, x_test, y_train, y_test = train_test_split(x,y, test_size = 0.2, random_state = 1)\n",
    "# test_size'ı değiştirerek doğruluk oranlarını değiştirebiliriz."
   ]
  },
  {
   "cell_type": "markdown",
   "id": "049f2904",
   "metadata": {},
   "source": [
    "KNN modelimizi oluşturuyoruz."
   ]
  },
  {
   "cell_type": "code",
   "execution_count": 6,
   "id": "20f89f35",
   "metadata": {},
   "outputs": [
    {
     "name": "stdout",
     "output_type": "stream",
     "text": [
      "K=3 için test verilerimizin doğrulama test sonucu  0.7857142857142857\n"
     ]
    }
   ],
   "source": [
    "knn = KNeighborsClassifier(n_neighbors = 3) #n_neighbors = k\n",
    "knn.fit(x_train, y_train) #fit yani eğit.\n",
    "prediction = knn.predict(x_test) #predict : tahmin et\n",
    "print(\"K=3 için test verilerimizin doğrulama test sonucu \", knn.score(x_test, y_test))"
   ]
  },
  {
   "cell_type": "markdown",
   "id": "63808662",
   "metadata": {},
   "source": [
    "k kaç olmalı? en iyi k değerini belirleyelim."
   ]
  },
  {
   "cell_type": "code",
   "execution_count": 7,
   "id": "dfa6386c",
   "metadata": {},
   "outputs": [
    {
     "name": "stdout",
     "output_type": "stream",
     "text": [
      "1    Doğruluk oranı : % 69.48051948051948\n",
      "2    Doğruluk oranı : % 74.02597402597402\n",
      "3    Doğruluk oranı : % 78.57142857142857\n",
      "4    Doğruluk oranı : % 75.97402597402598\n",
      "5    Doğruluk oranı : % 79.87012987012987\n",
      "6    Doğruluk oranı : % 79.22077922077922\n",
      "7    Doğruluk oranı : % 81.16883116883116\n",
      "8    Doğruluk oranı : % 79.22077922077922\n",
      "9    Doğruluk oranı : % 78.57142857142857\n",
      "10    Doğruluk oranı : % 79.22077922077922\n"
     ]
    }
   ],
   "source": [
    "sayac = 1\n",
    "for k in range(1,11):\n",
    "    knn_yeni = KNeighborsClassifier(n_neighbors = k)\n",
    "    knn_yeni.fit(x_train, y_train)\n",
    "    prediction = knn_yeni.predict(x_test)\n",
    "    print(sayac, \"  \", \"Doğruluk oranı : %\", knn_yeni.score(x_test,y_test)*100)\n",
    "    sayac += 1"
   ]
  },
  {
   "cell_type": "code",
   "execution_count": 8,
   "id": "f4213395",
   "metadata": {},
   "outputs": [
    {
     "name": "stderr",
     "output_type": "stream",
     "text": [
      "C:\\Users\\user\\anaconda3\\lib\\site-packages\\sklearn\\base.py:450: UserWarning: X does not have valid feature names, but MinMaxScaler was fitted with feature names\n",
      "  warnings.warn(\n",
      "C:\\Users\\user\\anaconda3\\lib\\site-packages\\sklearn\\base.py:450: UserWarning: X does not have valid feature names, but KNeighborsClassifier was fitted with feature names\n",
      "  warnings.warn(\n"
     ]
    },
    {
     "data": {
      "text/plain": [
       "1"
      ]
     },
     "execution_count": 8,
     "metadata": {},
     "output_type": "execute_result"
    }
   ],
   "source": [
    "# Yeni bir hasta tahmini için:\n",
    "from sklearn.preprocessing import MinMaxScaler\n",
    " \n",
    "# normalization yapıyoruz - daha hızlı normalization yapabilmek için MinMax  scaler kullandık...\n",
    "sc = MinMaxScaler()\n",
    "sc.fit_transform(x_ham_veri)\n",
    " \n",
    "new_prediction = knn.predict(sc.transform(np.array([[6,148,72,35,0,33.6,0.627,50]])))\n",
    "new_prediction[0]"
   ]
  },
  {
   "cell_type": "markdown",
   "id": "2933ce82",
   "metadata": {},
   "source": [
    "Sonuç 1 çıktı yani hasta. Verileri değiştirerek farklı sonuçlar elde edebiliriz."
   ]
  }
 ],
 "metadata": {
  "kernelspec": {
   "display_name": "Python 3 (ipykernel)",
   "language": "python",
   "name": "python3"
  },
  "language_info": {
   "codemirror_mode": {
    "name": "ipython",
    "version": 3
   },
   "file_extension": ".py",
   "mimetype": "text/x-python",
   "name": "python",
   "nbconvert_exporter": "python",
   "pygments_lexer": "ipython3",
   "version": "3.9.12"
  }
 },
 "nbformat": 4,
 "nbformat_minor": 5
}
